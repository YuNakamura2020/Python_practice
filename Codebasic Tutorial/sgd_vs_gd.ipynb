{
 "cells": [
  {
   "cell_type": "markdown",
   "metadata": {},
   "source": [
    "## Implementation of Stochastic and batch gradient descent in Python"
   ]
  },
  {
   "cell_type": "code",
   "execution_count": 1,
   "metadata": {},
   "outputs": [],
   "source": [
    "import pandas as pd\n",
    "import numpy as np\n",
    "from matplotlib import pyplot as plt\n",
    "%matplotlib inline"
   ]
  },
  {
   "cell_type": "code",
   "execution_count": 2,
   "metadata": {},
   "outputs": [
    {
     "data": {
      "text/html": [
       "<div>\n",
       "<style scoped>\n",
       "    .dataframe tbody tr th:only-of-type {\n",
       "        vertical-align: middle;\n",
       "    }\n",
       "\n",
       "    .dataframe tbody tr th {\n",
       "        vertical-align: top;\n",
       "    }\n",
       "\n",
       "    .dataframe thead th {\n",
       "        text-align: right;\n",
       "    }\n",
       "</style>\n",
       "<table border=\"1\" class=\"dataframe\">\n",
       "  <thead>\n",
       "    <tr style=\"text-align: right;\">\n",
       "      <th></th>\n",
       "      <th>area</th>\n",
       "      <th>bedrooms</th>\n",
       "      <th>price</th>\n",
       "    </tr>\n",
       "  </thead>\n",
       "  <tbody>\n",
       "    <tr>\n",
       "      <th>15</th>\n",
       "      <td>1175</td>\n",
       "      <td>2</td>\n",
       "      <td>42.0</td>\n",
       "    </tr>\n",
       "    <tr>\n",
       "      <th>19</th>\n",
       "      <td>800</td>\n",
       "      <td>1</td>\n",
       "      <td>32.0</td>\n",
       "    </tr>\n",
       "    <tr>\n",
       "      <th>3</th>\n",
       "      <td>1521</td>\n",
       "      <td>3</td>\n",
       "      <td>75.0</td>\n",
       "    </tr>\n",
       "    <tr>\n",
       "      <th>6</th>\n",
       "      <td>2732</td>\n",
       "      <td>4</td>\n",
       "      <td>135.0</td>\n",
       "    </tr>\n",
       "    <tr>\n",
       "      <th>1</th>\n",
       "      <td>2600</td>\n",
       "      <td>4</td>\n",
       "      <td>120.0</td>\n",
       "    </tr>\n",
       "  </tbody>\n",
       "</table>\n",
       "</div>"
      ],
      "text/plain": [
       "    area  bedrooms  price\n",
       "15  1175         2   42.0\n",
       "19   800         1   32.0\n",
       "3   1521         3   75.0\n",
       "6   2732         4  135.0\n",
       "1   2600         4  120.0"
      ]
     },
     "execution_count": 2,
     "metadata": {},
     "output_type": "execute_result"
    }
   ],
   "source": [
    "df = pd.read_csv(\"https://raw.githubusercontent.com/codebasics/deep-learning-keras-tf-tutorial/master/8_sgd_vs_gd/homeprices_banglore.csv\")\n",
    "df.sample(5)"
   ]
  },
  {
   "cell_type": "markdown",
   "metadata": {},
   "source": [
    "**Preprocessing / Scaling: Since our columns are on different scale it is important to perform scaling on them**"
   ]
  },
  {
   "cell_type": "code",
   "execution_count": 203,
   "metadata": {},
   "outputs": [],
   "source": [
    "from sklearn import preprocessing\n",
    "sx = preprocessing.MinMaxScaler()\n",
    "sy = preprocessing.MinMaxScaler()\n",
    "\n",
    "scaled_X = sx.fit_transform(df.drop('price', axis=1))\n",
    "scaled_y = sy.fit_transform(df[['price']])"
   ]
  },
  {
   "cell_type": "markdown",
   "metadata": {},
   "source": [
    "### (1) Implement Batch Gradient Descnet"
   ]
  },
  {
   "cell_type": "code",
   "execution_count": 264,
   "metadata": {},
   "outputs": [],
   "source": [
    "number_of_features = scaled_X.shape[1] # number of columns in scaled_X\n",
    "w = np.ones(shape = (number_of_features))\n",
    "b = 0\n",
    "total_samples = scaled_X.shape[0] # number of rows in scaled_X\n",
    "learning_rate = 0.01\n",
    "\n",
    "cost_list = []\n",
    "weight_list = []\n",
    "bias_list = []\n",
    "epoch_list = []\n",
    "\n",
    "epochs = 500\n",
    "for i in range(epochs):\n",
    "    y_predicted = np.dot(w, scaled_X.T)+b\n",
    "    w_grad = (2/total_samples)*np.dot(scaled_X.T, (y_predicted- scaled_y.reshape(-1)))\n",
    "    b_grad = (2/total_samples)*np.sum(y_predicted-scaled_y.T)\n",
    "\n",
    "    w = w - learning_rate * w_grad\n",
    "    b = b - learning_rate * b_grad\n",
    "\n",
    "    cost = np.mean(np.square(y_predicted-scaled_y.T))\n",
    "\n",
    "    if i%10==0:\n",
    "        cost_list.append(cost)\n",
    "        weight_list.append(w)\n",
    "        bias_list.append(b)\n",
    "        epoch_list.append(i)"
   ]
  },
  {
   "cell_type": "code",
   "execution_count": 265,
   "metadata": {},
   "outputs": [
    {
     "data": {
      "text/plain": [
       "(array([0.70712464, 0.67456527]), -0.23034857438407427, 0.0068641890429808105)"
      ]
     },
     "execution_count": 265,
     "metadata": {},
     "output_type": "execute_result"
    }
   ],
   "source": [
    "w, b, cost"
   ]
  },
  {
   "cell_type": "markdown",
   "metadata": {},
   "source": [
    "**the equation** \n",
    "### W1 = 0.707, w2 = 0.675, b = -0.230"
   ]
  },
  {
   "cell_type": "code",
   "execution_count": 266,
   "metadata": {},
   "outputs": [
    {
     "data": {
      "text/plain": [
       "[<matplotlib.lines.Line2D at 0x233afa20610>]"
      ]
     },
     "execution_count": 266,
     "metadata": {},
     "output_type": "execute_result"
    },
    {
     "data": {
      "image/png": "[encoded data removed]",
      "text/plain": [
       "<Figure size 432x288 with 1 Axes>"
      ]
     },
     "metadata": {
      "needs_background": "light"
     },
     "output_type": "display_data"
    }
   ],
   "source": [
    "plt.xlabel('epoch')\n",
    "plt.ylabel('cost')\n",
    "plt.plot(epoch_list, cost_list)"
   ]
  },
  {
   "cell_type": "markdown",
   "metadata": {},
   "source": [
    "### Let's predict with new dataset!"
   ]
  },
  {
   "cell_type": "code",
   "execution_count": 279,
   "metadata": {},
   "outputs": [
    {
     "name": "stderr",
     "output_type": "stream",
     "text": [
      "c:\\Projects\\Python\\Python_practice\\.venv\\lib\\site-packages\\sklearn\\base.py:445: UserWarning: X does not have valid feature names, but MinMaxScaler was fitted with feature names\n",
      "  warnings.warn(\n"
     ]
    }
   ],
   "source": [
    "new_data = sx.transform([[2600, 4]]).reshape(-1)"
   ]
  },
  {
   "cell_type": "code",
   "execution_count": 289,
   "metadata": {},
   "outputs": [
    {
     "data": {
      "text/plain": [
       "(0.7144803261679701, 128.45484403267596)"
      ]
     },
     "execution_count": 289,
     "metadata": {},
     "output_type": "execute_result"
    }
   ],
   "source": [
    "scaled_price = w[0]*new_data[0]+w[1]*new_data[1]+b\n",
    "scaled_price, sy.inverse_transform([[scaled_price]])[0][0]"
   ]
  },
  {
   "cell_type": "markdown",
   "metadata": {},
   "source": [
    "## Stochastic Gradient Descent Implementation\n",
    "### Stochastic GD will use randomly picked single training sample to calculate error and using this error we backpropagete to adjust weights."
   ]
  },
  {
   "cell_type": "code",
   "execution_count": 290,
   "metadata": {},
   "outputs": [
    {
     "data": {
      "text/plain": [
       "4"
      ]
     },
     "execution_count": 290,
     "metadata": {},
     "output_type": "execute_result"
    }
   ],
   "source": [
    "# we will use random libary to pick random training sample.\n",
    "import random\n",
    "random.randint(0,6) # randit gives random number between two numbers specified in the argument"
   ]
  },
  {
   "cell_type": "code",
   "execution_count": 366,
   "metadata": {},
   "outputs": [],
   "source": [
    "number_of_features = scaled_X.shape[1] # number of columns in scaled_X\n",
    "w_sgd = np.ones(shape = (number_of_features))\n",
    "b_sgd = 0\n",
    "total_samples = scaled_X.shape[0] # number of rows in scaled_X\n",
    "learning_rate = 0.01\n",
    "\n",
    "cost_list_sgd = []\n",
    "weight_list_sgd = []\n",
    "bias_list_sgd = []\n",
    "epoch_list_sgd = []\n",
    "\n",
    "epochs = 1000\n",
    "for i in range(epochs):\n",
    "    random_index = random.randint(0, total_samples-1) # random index from total samples\n",
    "    sample_x = scaled_X[random_index]\n",
    "    sample_y = scaled_y.reshape(-1)[random_index]\n",
    "    \n",
    "    y_predicted = np.dot(w_sgd, sample_x.T)+b_sgd\n",
    "    w_grad = (2/total_samples)*np.dot(sample_x.T, (y_predicted- sample_y))\n",
    "    b_grad = (2/total_samples)*np.sum(y_predicted-sample_y)\n",
    "\n",
    "    w_sgd = w_sgd - learning_rate * w_grad\n",
    "    b_sgd = b_sgd - learning_rate * b_grad\n",
    "\n",
    "    cost_sgd = np.mean(np.square(y_predicted-sample_y))\n",
    "\n",
    "    if i%10==0:\n",
    "        cost_list_sgd.append(cost_sgd)\n",
    "        weight_list_sgd.append(w_sgd)\n",
    "        bias_list_sgd.append(b_sgd)\n",
    "        epoch_list_sgd.append(i)"
   ]
  },
  {
   "cell_type": "code",
   "execution_count": 367,
   "metadata": {},
   "outputs": [
    {
     "data": {
      "text/plain": [
       "(array([0.87400011, 0.84692573]), -0.24799451523935048, 0.06304964872148051)"
      ]
     },
     "execution_count": 367,
     "metadata": {},
     "output_type": "execute_result"
    }
   ],
   "source": [
    "w_sgd, b_sgd, cost_sgd"
   ]
  },
  {
   "cell_type": "code",
   "execution_count": 368,
   "metadata": {},
   "outputs": [
    {
     "data": {
      "text/plain": [
       "[<matplotlib.lines.Line2D at 0x233afcecb80>]"
      ]
     },
     "execution_count": 368,
     "metadata": {},
     "output_type": "execute_result"
    },
    {
     "data": {
      "image/png": "[encoded data removed]",
      "text/plain": [
       "<Figure size 432x288 with 1 Axes>"
      ]
     },
     "metadata": {
      "needs_background": "light"
     },
     "output_type": "display_data"
    }
   ],
   "source": [
    "plt.xlabel('epochs')\n",
    "plt.ylabel('cost')\n",
    "plt.plot(epoch_list_sgd, cost_list_sgd)"
   ]
  },
  {
   "cell_type": "code",
   "execution_count": 369,
   "metadata": {},
   "outputs": [
    {
     "data": {
      "text/plain": [
       "(0.9248856700599273, 156.85956545809017)"
      ]
     },
     "execution_count": 369,
     "metadata": {},
     "output_type": "execute_result"
    }
   ],
   "source": [
    "scaled_price = w_sgd[0]*new_data[0]+w_sgd[1]*new_data[1]+b\n",
    "scaled_price, sy.inverse_transform([[scaled_price]])[0][0]"
   ]
  },
  {
   "cell_type": "markdown",
   "metadata": {},
   "source": [
    "## Exercise\n",
    "Implement mini batch gradient descent in python and plot cost vs epoch graph. Mini batch is intermediate version of batch GD and stochastic GD. In stochastic we used one randomly picked training sample, In mini gradient descent you will use a batch of samples in each iterations. For example if you have total 50 training samples, you can take a batch of 10 samples, calculate cumulitive error for those 10 samples and then adjust weights. In SGD we adjust weights after every one sample. In Batch we adjust weights after going through all samples but in mini batch we do after every m samples (where m is batch size and it is 0 < m < n, where n is total number of samples"
   ]
  },
  {
   "cell_type": "code",
   "execution_count": 357,
   "metadata": {},
   "outputs": [
    {
     "data": {
      "text/plain": [
       "(array([ 4,  3,  7, 14, 11, 12, 17,  9,  6, 18,  0,  2, 16,  8, 10,  5,  1,\n",
       "        13, 19, 15]),\n",
       " array([[0.86206897, 0.75      ],\n",
       "        [0.67931034, 0.5       ]]))"
      ]
     },
     "execution_count": 357,
     "metadata": {},
     "output_type": "execute_result"
    }
   ],
   "source": [
    "np.random.permutation(20), scaled_X[[7, 18]]"
   ]
  },
  {
   "cell_type": "code",
   "execution_count": 371,
   "metadata": {},
   "outputs": [],
   "source": [
    "number_of_features = scaled_X.shape[1] # number of columns in scaled_X\n",
    "w_mgd = np.ones(shape = (number_of_features))\n",
    "b_mgd = 0\n",
    "total_samples = scaled_X.shape[0] # number of rows in scaled_X\n",
    "learning_rate = 0.01\n",
    "batch_size = 5\n",
    "\n",
    "cost_list_mgd = []\n",
    "weight_list_mgd = []\n",
    "bias_list_mgd = []\n",
    "epoch_list_mgd = []\n",
    "\n",
    "epochs = 1000\n",
    "for i in range(epochs):\n",
    "    random_indices = np.random.permutation(total_samples-1) \n",
    "    permutation_x = scaled_X[random_indices]\n",
    "    permutation_y = scaled_y.reshape(-1)[random_indices]\n",
    "    \n",
    "    batch_x = permutation_x[1:1+batch_size]\n",
    "    batch_y = permutation_y[1:1+batch_size]\n",
    "    y_predicted = np.dot(w_mgd, batch_x.T)+b_mgd\n",
    "    w_grad = (2/batch_size)*np.dot(batch_x.T, (y_predicted- batch_y))\n",
    "    b_grad = (2/batch_size)*np.sum(y_predicted-batch_y)\n",
    "\n",
    "    w_mgd = w_mgd - learning_rate * w_grad\n",
    "    b_mgd = b_mgd - learning_rate * b_grad\n",
    "\n",
    "    cost_mgd = np.mean(np.square(y_predicted-batch_y))\n",
    "\n",
    "    if i%10==0:\n",
    "        cost_list_mgd.append(cost_mgd)\n",
    "        weight_list_mgd.append(w_mgd)\n",
    "        bias_list_mgd.append(b_mgd)\n",
    "        epoch_list_mgd.append(i)"
   ]
  },
  {
   "cell_type": "code",
   "execution_count": 372,
   "metadata": {},
   "outputs": [
    {
     "data": {
      "text/plain": [
       "(array([0.68305857, 0.65892586]), -0.22165927125819912, 0.0028050138162343994)"
      ]
     },
     "execution_count": 372,
     "metadata": {},
     "output_type": "execute_result"
    }
   ],
   "source": [
    "w_mgd, b_mgd, cost_mgd"
   ]
  },
  {
   "cell_type": "code",
   "execution_count": 373,
   "metadata": {},
   "outputs": [
    {
     "data": {
      "text/plain": [
       "[<matplotlib.lines.Line2D at 0x233afd59ac0>]"
      ]
     },
     "execution_count": 373,
     "metadata": {},
     "output_type": "execute_result"
    },
    {
     "data": {
      "image/png": "[encoded data removed]",
      "text/plain": [
       "<Figure size 432x288 with 1 Axes>"
      ]
     },
     "metadata": {
      "needs_background": "light"
     },
     "output_type": "display_data"
    }
   ],
   "source": [
    "plt.xlabel('epochs')\n",
    "plt.ylabel('cost')\n",
    "plt.plot(epoch_list_mgd, cost_list_mgd)"
   ]
  },
  {
   "cell_type": "code",
   "execution_count": 370,
   "metadata": {},
   "outputs": [
    {
     "data": {
      "text/plain": [
       "(array([[0.5       , 0.5       ],\n",
       "        [0.86206897, 0.75      ],\n",
       "        [0.10344828, 0.25      ],\n",
       "        [0.24862069, 0.5       ],\n",
       "        [0.12758621, 0.25      ]]),\n",
       " 5)"
      ]
     },
     "execution_count": 370,
     "metadata": {},
     "output_type": "execute_result"
    }
   ],
   "source": [
    "permutation_x[1:1+5], len(permutation_x[1:1+5])"
   ]
  },
  {
   "cell_type": "code",
   "execution_count": 362,
   "metadata": {},
   "outputs": [
    {
     "data": {
      "text/plain": [
       "array([[0.25517241, 0.5       ],\n",
       "       [0.5       , 0.5       ],\n",
       "       [0.86206897, 0.75      ],\n",
       "       [0.10344828, 0.25      ],\n",
       "       [0.24862069, 0.5       ],\n",
       "       [0.12758621, 0.25      ],\n",
       "       [0.13103448, 0.5       ],\n",
       "       [0.67931034, 0.5       ],\n",
       "       [0.22068966, 0.5       ],\n",
       "       [0.6662069 , 0.75      ],\n",
       "       [0.13793103, 0.25      ],\n",
       "       [0.12931034, 0.25      ],\n",
       "       [0.06896552, 0.25      ],\n",
       "       [0.62068966, 0.75      ],\n",
       "       [0.68448276, 0.75      ],\n",
       "       [0.08827586, 0.25      ],\n",
       "       [0.34482759, 0.5       ],\n",
       "       [1.        , 1.        ],\n",
       "       [0.17586207, 0.5       ]])"
      ]
     },
     "execution_count": 362,
     "metadata": {},
     "output_type": "execute_result"
    }
   ],
   "source": [
    "permutation_x"
   ]
  },
  {
   "cell_type": "code",
   "execution_count": 299,
   "metadata": {},
   "outputs": [],
   "source": [
    "def batch_gradient_descent(X, y_true, epochs, learning_rate = 0.01):\n",
    "\n",
    "    number_of_features = X.shape[1]\n",
    "    # numpy array with 1 row and columns equal to number of features. In \n",
    "    # our case number_of_features = 2 (area, bedroom)\n",
    "    w = np.ones(shape=(number_of_features)) \n",
    "    b = 0\n",
    "    total_samples = X.shape[0] # number of rows in X\n",
    "    \n",
    "    cost_list = []\n",
    "    epoch_list = []\n",
    "    y_predicted_list=[]\n",
    "    \n",
    "    for i in range(epochs):        \n",
    "        y_predicted0 = np.dot(w, X.T) + b\n",
    "\n",
    "        w_grad = -(2/total_samples)*(X.T.dot(y_true-y_predicted0))\n",
    "        b_grad = -(2/total_samples)*np.sum(y_true-y_predicted0)\n",
    "        \n",
    "        w = w - learning_rate * w_grad\n",
    "        b = b - learning_rate * b_grad\n",
    "        \n",
    "        cost = np.mean(np.square(y_true-y_predicted0)) # MSE (Mean Squared Error)\n",
    "        \n",
    "        if i%10==0:\n",
    "            cost_list.append(cost)\n",
    "            epoch_list.append(i)\n",
    "            y_predicted_list.append(y_predicted0)\n",
    "        \n",
    "    return w, b, cost, cost_list, epoch_list, y_predicted_list\n",
    "\n",
    "#w, b, cost, cost_list, epoch_list = batch_gradient_descent(scaled_X,scaled_y.reshape(scaled_y.shape[0],),500)\n",
    "#w, b, cost"
   ]
  },
  {
   "cell_type": "code",
   "execution_count": null,
   "metadata": {},
   "outputs": [],
   "source": []
  },
  {
   "cell_type": "code",
   "execution_count": 82,
   "metadata": {},
   "outputs": [],
   "source": [
    "a = np.array([1, 3, -5])\n",
    "b = np.array([[4, -2, -1], [3, 1, 1]])"
   ]
  },
  {
   "cell_type": "code",
   "execution_count": 85,
   "metadata": {},
   "outputs": [
    {
     "data": {
      "text/plain": [
       "array([3, 1])"
      ]
     },
     "execution_count": 85,
     "metadata": {},
     "output_type": "execute_result"
    }
   ],
   "source": [
    "np.dot(a, b.T)"
   ]
  },
  {
   "cell_type": "code",
   "execution_count": 78,
   "metadata": {},
   "outputs": [
    {
     "data": {
      "text/plain": [
       "(3,)"
      ]
     },
     "execution_count": 78,
     "metadata": {},
     "output_type": "execute_result"
    }
   ],
   "source": [
    "a.shape"
   ]
  },
  {
   "cell_type": "code",
   "execution_count": 84,
   "metadata": {},
   "outputs": [
    {
     "data": {
      "text/plain": [
       "(3, 2)"
      ]
     },
     "execution_count": 84,
     "metadata": {},
     "output_type": "execute_result"
    }
   ],
   "source": [
    "b.T.shape"
   ]
  },
  {
   "cell_type": "code",
   "execution_count": 80,
   "metadata": {},
   "outputs": [],
   "source": [
    "a = np.array([1, 3, -5])\n",
    "b = np.array([4, -2, -1])"
   ]
  },
  {
   "cell_type": "code",
   "execution_count": 81,
   "metadata": {},
   "outputs": [
    {
     "data": {
      "text/plain": [
       "(3,)"
      ]
     },
     "execution_count": 81,
     "metadata": {},
     "output_type": "execute_result"
    }
   ],
   "source": [
    "b.shape"
   ]
  },
  {
   "cell_type": "code",
   "execution_count": null,
   "metadata": {},
   "outputs": [],
   "source": []
  }
 ],
 "metadata": {
  "interpreter": {
   "hash": "0b079f5a20f5f491d70727bd856b1731df84bc2098702716f51a8119957f9674"
  },
  "kernelspec": {
   "display_name": "Python 3.9.6 64-bit ('.venv': venv)",
   "name": "python3"
  },
  "language_info": {
   "codemirror_mode": {
    "name": "ipython",
    "version": 3
   },
   "file_extension": ".py",
   "mimetype": "text/x-python",
   "name": "python",
   "nbconvert_exporter": "python",
   "pygments_lexer": "ipython3",
   "version": "3.9.6"
  },
  "orig_nbformat": 4
 },
 "nbformat": 4,
 "nbformat_minor": 2
}
